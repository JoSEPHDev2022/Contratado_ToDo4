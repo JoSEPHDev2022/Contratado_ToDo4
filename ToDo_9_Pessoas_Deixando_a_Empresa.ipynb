{
  "nbformat": 4,
  "nbformat_minor": 0,
  "metadata": {
    "colab": {
      "provenance": [],
      "authorship_tag": "ABX9TyMGfZ+Kqw3+8HK6SrBmik8x",
      "include_colab_link": true
    },
    "kernelspec": {
      "name": "python3",
      "display_name": "Python 3"
    },
    "language_info": {
      "name": "python"
    }
  },
  "cells": [
    {
      "cell_type": "markdown",
      "metadata": {
        "id": "view-in-github",
        "colab_type": "text"
      },
      "source": [
        "<a href=\"https://colab.research.google.com/github/JoSEPHDev2022/Contratado_ToDo4/blob/main/ToDo_9_Pessoas_Deixando_a_Empresa.ipynb\" target=\"_parent\"><img src=\"https://colab.research.google.com/assets/colab-badge.svg\" alt=\"Open In Colab\"/></a>"
      ]
    },
    {
      "cell_type": "markdown",
      "source": [
        "# <font color='ECB30F'>**_ToDo 9: Pessoas Deixando a Empresa_**</font>"
      ],
      "metadata": {
        "id": "1a4tN0JfTeNh"
      }
    },
    {
      "cell_type": "markdown",
      "source": [
        "O gráfico de bolhas a seguir é muito conhecido e foi retirado do livro: <font color='F35906'>*Storytelling with Data: Let's Practice!*</font>.  As situações propostas no livro podem ser usadas ​​para nos ajudar a entender e praticar várias lições relacionadas à comunicação com dados.\n"
      ],
      "metadata": {
        "id": "OBZhYsTPU65L"
      }
    },
    {
      "cell_type": "markdown",
      "source": [
        "<font size='4'>**Gráficos que serão utilizados:**<br><br>\n",
        "![graph.png](https://drive.google.com/uc?id=14_8VNeUdcM3j-l95dLCMn441MSijYe_s)"
      ],
      "metadata": {
        "id": "Z3E_7SxoVMhx"
      }
    },
    {
      "cell_type": "markdown",
      "source": [
        "Para esse gráfico temos a seguinte situação: \n",
        "\n",
        ">*Imagine que você seja o Chefe de Gabinete do Chief Marketing Officer (CMO) de uma grande empresa. Seu chefe, o CMO, pediu que você trabalhasse com seu Parceiro de Negócios de Recursos Humanos (HRBP) para entender o que está causando o atrito – pessoas deixando a empresa – em toda a organização de marketing e apresentar suas descobertas. Seu HRBP analisa os dados e envia por e-mail a visualização acima. Passe algum tempo se familiarizando com o gráfico e os dados que ele mostra e, em seguida, conclua as etapas a seguir.*"
      ],
      "metadata": {
        "id": "qBvyQ0h7XWSt"
      }
    },
    {
      "cell_type": "markdown",
      "source": [
        "## <font color='ECB30F'>**_Etapas a Concluir_**</font>"
      ],
      "metadata": {
        "id": "nQ9gCCpGYFXY"
      }
    },
    {
      "cell_type": "markdown",
      "source": [
        "### <font color='ECB30F'>***1. O que está sendo mostrado aqui? Escreva um texto explicando os dados. (Dica: imagine que você precisa explicar esse gráfico para o CMO. Escreva sobre como você faria isso em voz alta (fazendo suposições conforme necessário). Esses dados são fáceis ou complicados de falar em sua forma atual?)***\n"
      ],
      "metadata": {
        "id": "gbORSexbYZrF"
      }
    },
    {
      "cell_type": "code",
      "source": [],
      "metadata": {
        "id": "M1N9v2wfZ1xN"
      },
      "execution_count": null,
      "outputs": []
    },
    {
      "cell_type": "markdown",
      "source": [
        "### <font color='ECB30F'>***2. Que observações você pode fazer a partir desses dados? Coloque três conclusões específicas em palavras (Escreva sentenças completas)***\n"
      ],
      "metadata": {
        "id": "p0tCiVLsYsVs"
      }
    },
    {
      "cell_type": "code",
      "source": [],
      "metadata": {
        "id": "MEnVsIdXYQ7O"
      },
      "execution_count": null,
      "outputs": []
    },
    {
      "cell_type": "markdown",
      "source": [
        "### <font color='ECB30F'>***3. O que não é ideal ou poderia ser evitado na visualização em sua forma atual? Que perguntas você faria ou feedback para quem fez o gráfico? (Ex: suponha que seu HRBP gastou muito tempo criando esse gráfico, como você pode enquadrar seu feedback para que ele não se ofenda?))***"
      ],
      "metadata": {
        "id": "PwykSzAWY1rt"
      }
    },
    {
      "cell_type": "code",
      "source": [],
      "metadata": {
        "id": "jLvgbAHwY6Dq"
      },
      "execution_count": null,
      "outputs": []
    },
    {
      "cell_type": "markdown",
      "source": [
        "### <font color='ECB30F'>***4. Vamos visualizar! Invente três maneiras diferentes de mostrar esses dados. quais são algumas vantagens e deficiências de cada uma? Liste-as. (Coloquei o esboço de cada uma no arquivo)***"
      ],
      "metadata": {
        "id": "HJI_Pw2wY61B"
      }
    },
    {
      "cell_type": "code",
      "source": [],
      "metadata": {
        "id": "r9-YjHZkZAOw"
      },
      "execution_count": null,
      "outputs": []
    },
    {
      "cell_type": "markdown",
      "source": [
        "### <font color='ECB30F'>***5. Qual visualização representa melhor os dados e por quê?***"
      ],
      "metadata": {
        "id": "6YA6AYdpZAfH"
      }
    },
    {
      "cell_type": "code",
      "source": [],
      "metadata": {
        "id": "jnU5gaqYZGy0"
      },
      "execution_count": null,
      "outputs": []
    },
    {
      "cell_type": "markdown",
      "source": [
        "### <font color='ECB30F'>***6. Baixe os [dados](https://docs.google.com/spreadsheets/d/1mIvPu-KjNRIq4FBcV03_sxnFo0rLYhdS/edit?usp=sharing&ouid=117674959124577680782&rtpof=true&sd=true) e crie a visualização que você acha que representou melhor com a ferramenta de sua preferência (matplotlib, tableau, etc).***"
      ],
      "metadata": {
        "id": "eeifDhaGZHVm"
      }
    },
    {
      "cell_type": "code",
      "source": [],
      "metadata": {
        "id": "Dk5DG5oiZcqw"
      },
      "execution_count": null,
      "outputs": []
    },
    {
      "cell_type": "markdown",
      "source": [
        "### <font color='ECB30F'>***7. O objetivo é pensar  além de simplesmente mostrar dados. Como você pode gerar essas informações em uma história orientada por dados para seu gerente, o CMO.  (Qual é o contexto da história?)***"
      ],
      "metadata": {
        "id": "ly5rp0sBZhY7"
      }
    },
    {
      "cell_type": "code",
      "source": [],
      "metadata": {
        "id": "znVu6xE_ZnhG"
      },
      "execution_count": null,
      "outputs": []
    }
  ]
}